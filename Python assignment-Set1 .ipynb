{
 "cells": [
  {
   "cell_type": "code",
   "execution_count": 1,
   "id": "f8b44ccc",
   "metadata": {},
   "outputs": [],
   "source": [
    "#Convert Age to Days: Create a function that takes the age in years and returns the age in days.\n"
   ]
  },
  {
   "cell_type": "code",
   "execution_count": 23,
   "id": "edbe3de3",
   "metadata": {},
   "outputs": [
    {
     "name": "stdout",
     "output_type": "stream",
     "text": [
      "Enter your age:8\n",
      "Your age in days is: 2920\n"
     ]
    }
   ],
   "source": [
    "#declare as constant\n",
    "days_in_years=365\n",
    "\n",
    "age= int(input(\"Enter your age:\"))\n",
    "\n",
    "def calculate_age_in_days(age):\n",
    "    if age > 0:\n",
    "        return age * days_in_years\n",
    "    else:\n",
    "        print (\"Enter valid age\")    \n",
    "        return \"\"\n",
    "\n",
    "val= calculate_age_in_days(age)\n",
    "\n",
    "if val:\n",
    "    print (\"Your age in days is:\",val)\n"
   ]
  },
  {
   "cell_type": "code",
   "execution_count": 21,
   "id": "3daee679",
   "metadata": {},
   "outputs": [],
   "source": [
    "#Convert Age to secs: Create a function that takes the age in years and returns the age in secs."
   ]
  },
  {
   "cell_type": "code",
   "execution_count": 26,
   "id": "b0a7ad74",
   "metadata": {},
   "outputs": [
    {
     "name": "stdout",
     "output_type": "stream",
     "text": [
      "Enter your age:3\n",
      "Your age in days is: 94608000\n"
     ]
    }
   ],
   "source": [
    "secs_in_year = int (365 * 24 * 60 * 60)\n",
    "\n",
    "age= int(input(\"Enter your age:\"))\n",
    "\n",
    "\n",
    "def calculate_age_in_secs(age):\n",
    "    if age > 0:\n",
    "        return age * secs_in_year\n",
    "    else:\n",
    "        print (\"Enter valid age\")\n",
    "        return (\"\")    \n",
    "    \n",
    "val= calculate_age_in_secs(age)\n",
    "\n",
    "if val:\n",
    "    print (\"Your age in days is:\",val)\n"
   ]
  },
  {
   "cell_type": "code",
   "execution_count": null,
   "id": "45385fad",
   "metadata": {},
   "outputs": [],
   "source": [
    "#Create a function that accepts a string parameter and returns the reverse of the string"
   ]
  },
  {
   "cell_type": "code",
   "execution_count": 67,
   "id": "ab8ef5a1",
   "metadata": {},
   "outputs": [
    {
     "name": "stdout",
     "output_type": "stream",
     "text": [
      "Enter the string that is to be reversed:Monday\n",
      "yadnoM\n"
     ]
    }
   ],
   "source": [
    "def reverse_a_string(input_string):\n",
    "    reversed_string=\"\"\n",
    "    for i in range((len(input_string)-1),-1,-1):\n",
    "          reversed_string+= input_string[i]\n",
    "    return reversed_string\n",
    "\n",
    "input_string= input(\"Enter the string that is to be reversed:\")\n",
    "print(reverse_a_string(input_string))     "
   ]
  },
  {
   "cell_type": "code",
   "execution_count": 17,
   "id": "50efcd9d",
   "metadata": {},
   "outputs": [],
   "source": [
    "#Sum of 2 Numbers"
   ]
  },
  {
   "cell_type": "code",
   "execution_count": 13,
   "id": "19107bdb",
   "metadata": {},
   "outputs": [
    {
     "name": "stdout",
     "output_type": "stream",
     "text": [
      "Enter the array:[1,2,3,4,5,6,7]\n",
      "[1,2,3,4,5,6,7]\n",
      "enter target value:5\n",
      "5\n",
      "No such numbers present\n"
     ]
    }
   ],
   "source": [
    "          \n",
    "l1= input (\"Enter the array:\")\n",
    "\n",
    "print(l1)\n",
    "\n",
    "x= input (\"enter target value:\") \n",
    "print(x)\n",
    "\n",
    "def sum_of_two_nums(l1,x):\n",
    "    for i in range (len(l1)):\n",
    "        for j in range (i+1,len(l1)):\n",
    "            if l1[i] + l1[j] == x: \n",
    "                return [i,j]\n",
    "    \n",
    "\n",
    "result = sum_of_two_nums(l1,x)\n",
    "\n",
    "if result:\n",
    "    print (\"Sum of two numbers is:\",result)\n",
    "else:\n",
    "    print (\"No such numbers present\")"
   ]
  },
  {
   "cell_type": "code",
   "execution_count": 11,
   "id": "6bbbb875",
   "metadata": {},
   "outputs": [],
   "source": [
    "#Write a function that converts hours into seconds."
   ]
  },
  {
   "cell_type": "code",
   "execution_count": 8,
   "id": "fdb231e6",
   "metadata": {},
   "outputs": [
    {
     "name": "stdout",
     "output_type": "stream",
     "text": [
      "Enter the time in hours5\n",
      "The hours converted in secs is: 18000.0\n"
     ]
    }
   ],
   "source": [
    "secs = 3600\n",
    "def hours_to_secs(h):\n",
    "    if h > 0:\n",
    "        return h * secs\n",
    "    else:\n",
    "        return 0\n",
    "\n",
    "\n",
    "h= float(input('Enter the time in hours'))\n",
    "val= hours_to_secs(h)\n",
    "\n",
    "\n",
    "if val:\n",
    "    print (\"The hours converted in secs is:\",val)\n",
    "else:\n",
    "    print(\"Enter time input correctly\")"
   ]
  },
  {
   "cell_type": "code",
   "execution_count": 21,
   "id": "ff76f97e",
   "metadata": {
    "scrolled": false
   },
   "outputs": [],
   "source": [
    "# Number exists in array\n",
    "#####Problem statement\n",
    "#Given 2 arrays of different length, each one containing numbers in sorted order. Write a program that prints if\n",
    "# given number is present in either of the array.'''\n"
   ]
  },
  {
   "cell_type": "code",
   "execution_count": 35,
   "id": "722bdeb8",
   "metadata": {},
   "outputs": [
    {
     "name": "stdout",
     "output_type": "stream",
     "text": [
      "Enter the array1 in sorted order:[5, 8, 9, 10, 12, 20, 40, 60, 70]\n",
      "Enter the array2 in sorted order:[1, 5, 8, 9, 10]\n",
      "enter target value:1\n",
      "The number is present in both array\n"
     ]
    }
   ],
   "source": [
    "#'''l1=[1,5,8,9,10]\n",
    "#l2=[5,8,9,10,12,20,40,60,70]\n",
    "#x=70'''\n",
    "\n",
    "\n",
    "def trace_num(l1,l2,x):\n",
    "    num_in_l1= False\n",
    "    num_in_l2= False\n",
    "    #trace array 1\n",
    "    for i in l1:\n",
    "        if i == x:\n",
    "            num_in_l1= True\n",
    "            break\n",
    "    #trace second array    \n",
    "    for i in l2:\n",
    "        if i == x:\n",
    "            num_in_l2= True\n",
    "            break\n",
    "            \n",
    "    if num_in_l1  and   num_in_l2:\n",
    "        print (\"The number is present in both array\")\n",
    "    \n",
    "    elif num_in_l1 :\n",
    "        print (\"The number is present in array l1\")\n",
    "    \n",
    "    elif num_in_l2 :\n",
    "        print (\"The number is present in array l2\")\n",
    "    \n",
    "    else:\n",
    "        print (\"The number is not present in both arrays:\")\n",
    "\n",
    "        \n",
    "l1= input (\"Enter the array1 in sorted order:\")\n",
    "l2= input (\"Enter the array2 in sorted order:\")\n",
    "x= input (\"enter target value:\") \n",
    "\n",
    "val= trace_num(l1,l2,x)  \n",
    "\n"
   ]
  },
  {
   "cell_type": "code",
   "execution_count": 36,
   "id": "2b2301cc",
   "metadata": {},
   "outputs": [],
   "source": [
    "##Write a program, which given any date as input would print the date using the format day of the month with\n",
    "#'st,nd,th' based on which date it is.\n"
   ]
  },
  {
   "cell_type": "code",
   "execution_count": 40,
   "id": "a8457b7b",
   "metadata": {},
   "outputs": [
    {
     "name": "stdout",
     "output_type": "stream",
     "text": [
      "Enter the date in DD-MM--YYYY format: 1-1-1900\n",
      "Formatted date: 1st January 1900\n"
     ]
    }
   ],
   "source": [
    "def get_suffix(day):\n",
    "    if 11 <= day <= 13:\n",
    "        return 'th'\n",
    "    else:\n",
    "        last_digit = day % 10\n",
    "        if last_digit == 1:\n",
    "            return 'st'\n",
    "        elif last_digit == 2:\n",
    "            return 'nd'\n",
    "        elif last_digit == 3:\n",
    "            return 'rd'\n",
    "        else:\n",
    "            return 'th'\n",
    "\n",
    "def format_date_with_suffix(date_str):\n",
    "    # Split the input date string into year, month, and day\n",
    "    day, month,year  = map(int, date_str.split('-'))\n",
    "    \n",
    "    # Define month names\n",
    "    month_names = [\"January\", \"February\", \"March\", \"April\", \"May\", \"June\",\n",
    "                   \"July\", \"August\", \"September\", \"October\", \"November\", \"December\"]\n",
    "    \n",
    "    # Get the month name from the month number\n",
    "    month_name = month_names[month - 1]\n",
    "    \n",
    "    # Get the ordinal suffix for the day\n",
    "    suffix = get_suffix(day)\n",
    "    \n",
    "    # Format the date string\n",
    "    formatted_date = f\"{day}{suffix} {month_name} {year}\"\n",
    "    return formatted_date\n",
    "\n",
    "# Input date in the format DD-MM--YYYY\n",
    "input_date = input(\"Enter the date in DD-MM--YYYY format: \")\n",
    "\n",
    "# Print the formatted date\n",
    "formatted_date = format_date_with_suffix(input_date)\n",
    "print(\"Formatted date:\", formatted_date)"
   ]
  },
  {
   "cell_type": "code",
   "execution_count": null,
   "id": "60af25e8",
   "metadata": {},
   "outputs": [],
   "source": [
    "#Write a program that prints total value of a sentence where\n",
    "#a sentence can only contain alphabets from a to z (all smallcase),\n",
    "#each alphabet represents a value starting from a = 11 , b= 12 , c=13 ...to z = 36\n",
    "#you are not allowed to use array to store values of each alphabet such as 11, 12, .. 36\n",
    "#you are not allowed to use 26 If statements"
   ]
  },
  {
   "cell_type": "code",
   "execution_count": 2,
   "id": "660207a2",
   "metadata": {},
   "outputs": [
    {
     "data": {
      "text/plain": [
       "97"
      ]
     },
     "execution_count": 2,
     "metadata": {},
     "output_type": "execute_result"
    }
   ],
   "source": [
    "ord(\"a\")"
   ]
  },
  {
   "cell_type": "code",
   "execution_count": 27,
   "id": "90332430",
   "metadata": {},
   "outputs": [
    {
     "name": "stdout",
     "output_type": "stream",
     "text": [
      "Enter the sentence:vivek\n",
      "Total value of the sentence: 119\n"
     ]
    }
   ],
   "source": [
    "def calculate_sentence_value(sentence):\n",
    "    total_value = 0\n",
    "    \n",
    "    for char in sentence:\n",
    "        # Calculate the value of the character\n",
    "        char_value = ord(char) - ord('a') + 11\n",
    "        # Add the character value to the total value\n",
    "        total_value += char_value\n",
    "    \n",
    "    return total_value\n",
    "\n",
    "\n",
    "\n",
    "# Example usage\n",
    "sentence = input(\"Enter the sentence:\")\n",
    "totalvalue=calculate_sentence_value(sentence)\n",
    "print(\"Total value of the sentence:\",totalvalue )"
   ]
  },
  {
   "cell_type": "code",
   "execution_count": null,
   "id": "e9fc61ec",
   "metadata": {},
   "outputs": [],
   "source": []
  },
  {
   "cell_type": "code",
   "execution_count": null,
   "id": "b0fa4b32",
   "metadata": {},
   "outputs": [],
   "source": []
  }
 ],
 "metadata": {
  "kernelspec": {
   "display_name": "Python 3 (ipykernel)",
   "language": "python",
   "name": "python3"
  },
  "language_info": {
   "codemirror_mode": {
    "name": "ipython",
    "version": 3
   },
   "file_extension": ".py",
   "mimetype": "text/x-python",
   "name": "python",
   "nbconvert_exporter": "python",
   "pygments_lexer": "ipython3",
   "version": "3.11.4"
  }
 },
 "nbformat": 4,
 "nbformat_minor": 5
}
